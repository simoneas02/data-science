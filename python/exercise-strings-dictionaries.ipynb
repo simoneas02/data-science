{
 "cells": [
  {
   "cell_type": "markdown",
   "metadata": {},
   "source": [
    "# Exercise: Strings and Dictionaries"
   ]
  },
  {
   "cell_type": "code",
   "execution_count": 2,
   "metadata": {},
   "outputs": [
    {
     "data": {
      "text/plain": [
       "0"
      ]
     },
     "execution_count": 2,
     "metadata": {},
     "output_type": "execute_result"
    }
   ],
   "source": [
    "a = \"\"\n",
    "len(a)"
   ]
  },
  {
   "cell_type": "code",
   "execution_count": 3,
   "metadata": {},
   "outputs": [
    {
     "data": {
      "text/plain": [
       "7"
      ]
     },
     "execution_count": 3,
     "metadata": {},
     "output_type": "execute_result"
    }
   ],
   "source": [
    "b = \"it's ok\"\n",
    "len(b)"
   ]
  },
  {
   "cell_type": "code",
   "execution_count": 4,
   "metadata": {},
   "outputs": [
    {
     "data": {
      "text/plain": [
       "7"
      ]
     },
     "execution_count": 4,
     "metadata": {},
     "output_type": "execute_result"
    }
   ],
   "source": [
    "c = 'it\\'s ok'\n",
    "len(c)"
   ]
  },
  {
   "cell_type": "code",
   "execution_count": 5,
   "metadata": {},
   "outputs": [
    {
     "data": {
      "text/plain": [
       "3"
      ]
     },
     "execution_count": 5,
     "metadata": {},
     "output_type": "execute_result"
    }
   ],
   "source": [
    "d = \"\"\"hey\"\"\"\n",
    "len(d)"
   ]
  },
  {
   "cell_type": "code",
   "execution_count": 6,
   "metadata": {},
   "outputs": [
    {
     "data": {
      "text/plain": [
       "1"
      ]
     },
     "execution_count": 6,
     "metadata": {},
     "output_type": "execute_result"
    }
   ],
   "source": [
    "e = '\\n'\n",
    "len(e)"
   ]
  },
  {
   "cell_type": "code",
   "execution_count": 13,
   "metadata": {},
   "outputs": [],
   "source": [
    "def is_valid_zip(zip_code):\n",
    "    return len(zip_code) == 5 and zip_code.isdigit()"
   ]
  },
  {
   "cell_type": "code",
   "execution_count": 22,
   "metadata": {},
   "outputs": [],
   "source": [
    "zip_code = '53220-375'"
   ]
  },
  {
   "cell_type": "code",
   "execution_count": 23,
   "metadata": {},
   "outputs": [
    {
     "data": {
      "text/plain": [
       "False"
      ]
     },
     "execution_count": 23,
     "metadata": {},
     "output_type": "execute_result"
    }
   ],
   "source": [
    "is_valid_zip(zip_code)"
   ]
  },
  {
   "cell_type": "code",
   "execution_count": 117,
   "metadata": {},
   "outputs": [],
   "source": [
    "def word_search(doc_list, keyword):\n",
    "    indices = [] \n",
    "    tokens = doc_list.split()\n",
    "    normalized = [token.rstrip('.,').lower() for token in tokens]\n",
    "    if keyword.lower() in normalized:\n",
    "        indices.append(keyword)\n",
    "    return indices"
   ]
  },
  {
   "cell_type": "code",
   "execution_count": 37,
   "metadata": {},
   "outputs": [],
   "source": [
    "storie = 'You can use any mix of HTML, JavaScript, CSS, Bootstrap, SASS, React, Redux, and jQuery to complete this project. You should use a frontend framework (like React for example) because this section is about learning frontend frameworks. Additional technologies not listed above are not recommended and using them is at your own risk. We are looking at supporting other frontend frameworks like Angular and Vue, but they are not currently supported. We will accept and try to fix all issue reports that use the suggested technology stack for this project. Happy coding!'"
   ]
  },
  {
   "cell_type": "code",
   "execution_count": 118,
   "metadata": {},
   "outputs": [
    {
     "data": {
      "text/plain": [
       "['React']"
      ]
     },
     "execution_count": 118,
     "metadata": {},
     "output_type": "execute_result"
    }
   ],
   "source": [
    "word_search(storie, 'React')"
   ]
  },
  {
   "cell_type": "code",
   "execution_count": 121,
   "metadata": {},
   "outputs": [],
   "source": [
    "def multi_word_senumerateearch(doc_list, keywords):\n",
    "    keyword_to_indices = {}\n",
    "    for keyword in keywords:\n",
    "        keyword_to_indices[keyword] = word_search(doc_list, keyword)\n",
    "    return keyword_to_indices"
   ]
  },
  {
   "cell_type": "code",
   "execution_count": 122,
   "metadata": {},
   "outputs": [
    {
     "data": {
      "text/plain": [
       "{'R': [], 'e': [], 'a': ['a'], 'c': [], 't': []}"
      ]
     },
     "execution_count": 122,
     "metadata": {},
     "output_type": "execute_result"
    }
   ],
   "source": [
    "multi_word_senumerateearch(storie, 'React')"
   ]
  },
  {
   "cell_type": "code",
   "execution_count": 142,
   "metadata": {},
   "outputs": [],
   "source": [
    "def diamond(height):\n",
    "    s = ''\n",
    "    l, r = '/', '\\\\'\n",
    "    rad = height // 2\n",
    "    for row in range(height):\n",
    "        if row == rad:\n",
    "            l, r = r, l\n",
    "        if row < rad:\n",
    "            nchars = row+1\n",
    "        else:\n",
    "            nchars = height - row\n",
    "        left = (l * nchars).rjust(rad)\n",
    "        right = (r * nchars).ljust(rad)\n",
    "        s += left + right + '\\n'\n",
    "        print(s)\n",
    "    return s[1:-1]"
   ]
  },
  {
   "cell_type": "code",
   "execution_count": 143,
   "metadata": {},
   "outputs": [
    {
     "name": "stdout",
     "output_type": "stream",
     "text": [
      "   /\\   \n",
      "\n",
      "   /\\   \n",
      "  //\\\\  \n",
      "\n",
      "   /\\   \n",
      "  //\\\\  \n",
      " ///\\\\\\ \n",
      "\n",
      "   /\\   \n",
      "  //\\\\  \n",
      " ///\\\\\\ \n",
      "////\\\\\\\\\n",
      "\n",
      "   /\\   \n",
      "  //\\\\  \n",
      " ///\\\\\\ \n",
      "////\\\\\\\\\n",
      "\\\\\\\\\\/////\n",
      "\n",
      "   /\\   \n",
      "  //\\\\  \n",
      " ///\\\\\\ \n",
      "////\\\\\\\\\n",
      "\\\\\\\\\\/////\n",
      "\\\\\\\\////\n",
      "\n",
      "   /\\   \n",
      "  //\\\\  \n",
      " ///\\\\\\ \n",
      "////\\\\\\\\\n",
      "\\\\\\\\\\/////\n",
      "\\\\\\\\////\n",
      " \\\\\\/// \n",
      "\n",
      "   /\\   \n",
      "  //\\\\  \n",
      " ///\\\\\\ \n",
      "////\\\\\\\\\n",
      "\\\\\\\\\\/////\n",
      "\\\\\\\\////\n",
      " \\\\\\/// \n",
      "  \\\\//  \n",
      "\n",
      "   /\\   \n",
      "  //\\\\  \n",
      " ///\\\\\\ \n",
      "////\\\\\\\\\n",
      "\\\\\\\\\\/////\n",
      "\\\\\\\\////\n",
      " \\\\\\/// \n",
      "  \\\\//  \n",
      "   \\/   \n",
      "\n"
     ]
    },
    {
     "data": {
      "text/plain": [
       "'  /\\\\   \\n  //\\\\\\\\  \\n ///\\\\\\\\\\\\ \\n////\\\\\\\\\\\\\\\\\\n\\\\\\\\\\\\\\\\\\\\/////\\n\\\\\\\\\\\\\\\\////\\n \\\\\\\\\\\\/// \\n  \\\\\\\\//  \\n   \\\\/   '"
      ]
     },
     "execution_count": 143,
     "metadata": {},
     "output_type": "execute_result"
    }
   ],
   "source": [
    "diamond(9)"
   ]
  },
  {
   "cell_type": "code",
   "execution_count": 150,
   "metadata": {},
   "outputs": [],
   "source": [
    "def conditional_roulette_probs(history):\n",
    "    counts = {}\n",
    "    for i in range(1, len(history)):\n",
    "        roll, prev = history[i], history[i-1]\n",
    "        if prev not in counts:\n",
    "            counts[prev] = {}\n",
    "        if roll not in counts[prev]:\n",
    "            counts[prev][roll] = 0\n",
    "        counts[prev][roll] += 1\n",
    "\n",
    "    probs = {}\n",
    "    for prev, nexts in counts.items():\n",
    "        total = sum(nexts.values())\n",
    "        sub_probs = {next_spin: next_count/total\n",
    "                for next_spin, next_count in nexts.items()}\n",
    "        probs[prev] = sub_probs\n",
    "    return probs"
   ]
  },
  {
   "cell_type": "code",
   "execution_count": null,
   "metadata": {},
   "outputs": [],
   "source": []
  }
 ],
 "metadata": {
  "kernelspec": {
   "display_name": "Python 3",
   "language": "python",
   "name": "python3"
  },
  "language_info": {
   "codemirror_mode": {
    "name": "ipython",
    "version": 3
   },
   "file_extension": ".py",
   "mimetype": "text/x-python",
   "name": "python",
   "nbconvert_exporter": "python",
   "pygments_lexer": "ipython3",
   "version": "3.6.3"
  }
 },
 "nbformat": 4,
 "nbformat_minor": 2
}
